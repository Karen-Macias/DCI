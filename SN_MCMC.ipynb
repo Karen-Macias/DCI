{
 "cells": [
  {
   "cell_type": "code",
   "execution_count": 1,
   "metadata": {
    "collapsed": false
   },
   "outputs": [
    {
     "name": "stdout",
     "output_type": "stream",
     "text": [
      "Populating the interactive namespace from numpy and matplotlib\n"
     ]
    }
   ],
   "source": [
    "from  __future__ import division\n",
    "%pylab inline\n",
    "import numpy as np\n",
    "from random import random\n"
   ]
  },
  {
   "cell_type": "markdown",
   "metadata": {},
   "source": [
    "En este notebook se implenta el algoritomo Metropolis–Hastings, el método MCMC más sencillo. Y se  usa para  determinar el factor de Hubble $H_0$ y la densidad de Materia $\\Omega_m$, usando datos de distancias de supernovas. \n",
    "\n",
    "\n",
    "\n",
    "La distancia-modulo, para una supernova se estima a partir de su magnitud (relacionada con el flujo de luz) a traves de : \n",
    "$\\mu=25-5Log_{10}(H_0/100)+5Log_{10}(D_L/Mpc)$\n",
    "\n",
    "donde $D_L$ es la distancia luminossa. \n",
    "\n",
    "La expresión para el  calculo de la distancia luminosa en el modelo LCDM es: \n",
    "\n",
    "$D_{L}=\\frac{(1+z) c}{H_0 \\sqrt{|1-\\Omega |}} S_{k}(r)$,\n",
    "donde, \n",
    "\n",
    "$r(z)= \\sqrt{|1-\\Omega |} \\int_{0}^{z}{\\frac{dz'}{\\sqrt{\\Omega_m (1+z')^3+\\Omega_\\Lambda+(1-\\Omega)(1+z')^2}}} {\\rm Mpc}$\n",
    "\n",
    "donde $S_{k}(r)=\\sin(r),r,sinh(r)$, dependiendo de si $\\Omega\\equiv \\Omega_m+\\Omega_\\Lambda$ es $>1,=1,<1$, y $z$ es el redshift. \n",
    " \n",
    " \n",
    "La distancia en un Universo plano, $\\Omega_T=1$,puede aproximarse mediante la siguiente expresión:  \n",
    "\n",
    "$D_L= \\frac{c}{H_0}(1+z)[\\eta(1,\\Omega_m)-\\eta(1/(1+z),\\Omega_m)]$\n",
    "\n",
    "$\\eta(a,\\Omega_m)=2\\sqrt{s^3+1}[a^{-4}-0.1540 s\\,a^{-3}+0.4304 s^2\\, a^{-2}+0.19097 s^3 a^{-1}+0.066941 s^4]^{-1/8}$\n",
    "\n",
    "$s^3=(1-\\Omega_m)/\\Omega_m$\n",
    "\n",
    "La que resulta de un ajuste a la solución numérica completa de la expresión:\n",
    "$D_L= 3000 h^{-1}(1+z) \\int_{0}^{z}{\\frac{dz'}{\\sqrt{\\Omega_m (1+z')^3+1-\\Omega_m}}} {\\rm Mpc}$\n",
    "\n",
    "donde $H_0=100h\\,\\rm{ km s^{-1} Mpc^{-1}}$\n",
    "\n",
    "Referencias:\n",
    "https://drive.google.com/file/d/0B7rKkdILAWiRWGxtU2taMXJNS0k/view\n",
    "\n",
    "http://astro.ic.ac.uk/sites/default/files/ICIC%20Data%20Analysis%20lectures.pdf"
   ]
  },
  {
   "cell_type": "code",
   "execution_count": 2,
   "metadata": {
    "collapsed": false
   },
   "outputs": [],
   "source": [
    "data=np.loadtxt('data_SN')\n",
    "cov_mat=np.loadtxt('covmatrix.txt').T\n",
    "cov_mat=np.reshape(cov_mat,(-1,31))\n",
    "invcov=np.linalg.inv(cov_mat)\n",
    "\n"
   ]
  },
  {
   "cell_type": "code",
   "execution_count": 3,
   "metadata": {
    "collapsed": true
   },
   "outputs": [],
   "source": [
    "c=3e5\n",
    "def eta(a,Om):\n",
    "        s3=(1.-Om)/Om\n",
    "        s2=s3**(2./3)\n",
    "        s=s3**(1./3)\n",
    "        return 2.*np.sqrt(s3+1.)*((1./a**4)-(0.1540*s/a**3)+(0.4304*s2/a**2)+(0.19097*s3/a)+(0.066941*s**4))**(-1./8.)\n",
    "    \n",
    "def DL(z,H0,Om):\n",
    "    return c/H0*(1.+z)*(eta(1.,Om)-eta(1./(1.+z),Om))\n",
    "\n",
    "def mu(z,H0,Om):\n",
    "    t=25.-5.*np.log10(H0/100.)+5.*np.log10(DL(z,H0,Om))\n",
    "    return t"
   ]
  },
  {
   "cell_type": "code",
   "execution_count": 4,
   "metadata": {
    "collapsed": false
   },
   "outputs": [
    {
     "data": {
      "text/plain": [
       "<matplotlib.collections.PathCollection at 0x111082c50>"
      ]
     },
     "execution_count": 4,
     "metadata": {},
     "output_type": "execute_result"
    },
    {
     "data": {
      "image/png": "[encoded data removed]",
      "text/plain": [
       "<matplotlib.figure.Figure at 0x10ea1e1d0>"
      ]
     },
     "metadata": {},
     "output_type": "display_data"
    }
   ],
   "source": [
    "plot(data[0],mu(data[0],70,0.3))\n",
    "scatter(data[0],data[1])"
   ]
  },
  {
   "cell_type": "code",
   "execution_count": 5,
   "metadata": {
    "collapsed": true
   },
   "outputs": [],
   "source": [
    "def lnprior(theta):\n",
    "    if ((1.<theta[0]<100.) and (0.01<theta[1]<1.0)):\n",
    "        return 0.\n",
    "    else:\n",
    "        return -np.infty\n",
    "    return\n",
    "    \n",
    "def lnlike(theta):\n",
    "    model=mu(data[0],theta[0],theta[1])\n",
    "    diff=data[1]-model\n",
    "    tmp=0.\n",
    "    tmp=np.dot(diff,invcov)\n",
    "    tmp=np.dot(tmp,diff.T)\n",
    "    tmp=-0.5*np.sum(tmp)\n",
    "    return tmp\n",
    "\n",
    "def MCMC_step(theta_start,theta_trial):\n",
    "    if (lnprior(theta_trial)):\n",
    "        return theta_start    \n",
    "    p_start=lnlike(theta_start)\n",
    "    p_trial=lnlike(theta_trial)\n",
    "    p_acc=np.exp(p_trial-p_start)\n",
    "    p_acc=min(1.,p_acc)\n",
    "    if (p_acc==1.):\n",
    "        return theta_trial\n",
    "    else:\n",
    "        x=random()\n",
    "        if (p_acc>=x):\n",
    "            return theta_trial\n",
    "        else:\n",
    "            return theta_start\n",
    "    return \n",
    "    "
   ]
  },
  {
   "cell_type": "code",
   "execution_count": 6,
   "metadata": {
    "collapsed": false
   },
   "outputs": [],
   "source": [
    "Nsamples=1000\n",
    "sigma1=1\n",
    "sigma2=0.1\n",
    "\n",
    "\n",
    "Nchains=10\n",
    "theta_start=[50.,0.3]\n",
    "chains=[]\n",
    "for j in range(Nchains):\n",
    "    theta_start=np.array([np.random.normal(theta_start[0],sigma1),np.random.normal(theta_start[1], sigma2)])\n",
    "    for i in range(Nsamples):\n",
    "        if i==0:\n",
    "            chain=theta_start\n",
    "        else:\n",
    "            theta_trial=np.array([np.random.normal(theta_start[0], sigma1),np.random.normal(theta_start[1], sigma2)])\n",
    "            theta_new=MCMC_step(theta_start,theta_trial)\n",
    "            chain=np.concatenate((chain,theta_new))\n",
    "            theta_start=theta_new\n",
    "    if j==0:\n",
    "        chains=chain\n",
    "    else:\n",
    "        chains=np.vstack((chains,chain))"
   ]
  },
  {
   "cell_type": "code",
   "execution_count": 7,
   "metadata": {
    "collapsed": false
   },
   "outputs": [
    {
     "name": "stdout",
     "output_type": "stream",
     "text": [
      "10000\n"
     ]
    }
   ],
   "source": [
    "chain_=chains[:,:].reshape((-1, 2))\n",
    "print len(chain_)"
   ]
  },
  {
   "cell_type": "code",
   "execution_count": 8,
   "metadata": {
    "collapsed": false
   },
   "outputs": [
    {
     "data": {
      "text/plain": [
       "<matplotlib.collections.PathCollection at 0x111327fd0>"
      ]
     },
     "execution_count": 8,
     "metadata": {},
     "output_type": "execute_result"
    },
    {
     "data": {
      "image/png": "[encoded data removed]",
      "text/plain": [
       "<matplotlib.figure.Figure at 0x111182890>"
      ]
     },
     "metadata": {},
     "output_type": "display_data"
    }
   ],
   "source": [
    "scatter(chain_[:,0],chain_[:,1],s=6)"
   ]
  },
  {
   "cell_type": "code",
   "execution_count": 11,
   "metadata": {
    "collapsed": false
   },
   "outputs": [
    {
     "data": {
      "text/plain": [
       "(0.1, 0.5)"
      ]
     },
     "execution_count": 11,
     "metadata": {},
     "output_type": "execute_result"
    },
    {
     "data": {
      "image/png": "[encoded data removed]",
      "text/plain": [
       "<matplotlib.figure.Figure at 0x111493cd0>"
      ]
     },
     "metadata": {},
     "output_type": "display_data"
    }
   ],
   "source": [
    "scatter(chain_[:,0],chain_[:,1],s=6)\n",
    "xlim(70,75)\n",
    "ylim(0.1,0.5)"
   ]
  },
  {
   "cell_type": "code",
   "execution_count": 17,
   "metadata": {
    "collapsed": false
   },
   "outputs": [
    {
     "data": {
      "text/plain": [
       "(70, 75)"
      ]
     },
     "execution_count": 17,
     "metadata": {},
     "output_type": "execute_result"
    },
    {
     "data": {
      "image/png": "[encoded data removed]",
      "text/plain": [
       "<matplotlib.figure.Figure at 0x111e24d10>"
      ]
     },
     "metadata": {},
     "output_type": "display_data"
    }
   ],
   "source": [
    "hist(chain_[:,0],bins=100)\n",
    "xlim(70,75)"
   ]
  },
  {
   "cell_type": "code",
   "execution_count": 18,
   "metadata": {
    "collapsed": false
   },
   "outputs": [
    {
     "data": {
      "text/plain": [
       "(0.1, 0.5)"
      ]
     },
     "execution_count": 18,
     "metadata": {},
     "output_type": "execute_result"
    },
    {
     "data": {
      "image/png": "[encoded data removed]",
      "text/plain": [
       "<matplotlib.figure.Figure at 0x1121ff810>"
      ]
     },
     "metadata": {},
     "output_type": "display_data"
    }
   ],
   "source": [
    "hist(chain_[:,1],bins=100)\n",
    "xlim(0.1,0.5)"
   ]
  },
  {
   "cell_type": "markdown",
   "metadata": {},
   "source": [
    "Ejercicios: \n",
    "\n",
    "a) Encuentra el valor promedio y la desviación estándar para cada uno de los parámetros. Haz un histograma-1D, de cada uno de los parámetros.\n",
    "\n",
    "b) Explora el efecto de la variacion de los parametrso $\\sigma_1$ y $\\sigma_2$. Calcula la fracción de aceptación (Numero de propuestas aceptadas/Numero de propuestas totales), y gráficalo como función del parámetro $\\sigma_1$, y $\\sigma_2$. \n",
    "\n",
    "c)Explora el efecto de burning, cuantos pasos puedo/debo eliminar de la cadena completa. Investiga sobre los diferentes tests de convergencia.\n",
    "\n",
    "d) Generaliza el método a generar varias cadenas que empiecen en puntos iniciales diferentes, al final juunta todas las cadenas en una sola y repite los analisis anteriores. \n",
    "\n",
    "e) Una vez que hayas ganado confinza en el método, implementa la expresion general para el calculo de distancias, y explora si el universo es abierto, plano, o cerrado, de acuerdo con estos datos.  "
   ]
  },
  {
   "cell_type": "markdown",
   "metadata": {},
   "source": []
  },
  {
   "cell_type": "code",
   "execution_count": null,
   "metadata": {
    "collapsed": true
   },
   "outputs": [],
   "source": []
  }
 ],
 "metadata": {
  "kernelspec": {
   "display_name": "Python 2",
   "language": "python",
   "name": "python2"
  },
  "language_info": {
   "codemirror_mode": {
    "name": "ipython",
    "version": 2
   },
   "file_extension": ".py",
   "mimetype": "text/x-python",
   "name": "python",
   "nbconvert_exporter": "python",
   "pygments_lexer": "ipython2",
   "version": "2.7.13"
  }
 },
 "nbformat": 4,
 "nbformat_minor": 0
}
