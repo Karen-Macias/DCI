{
 "cells": [
  {
   "cell_type": "code",
   "execution_count": 1,
   "metadata": {},
   "outputs": [],
   "source": [
    "%matplotlib inline\n",
    "import numpy as np\n",
    "import matplotlib.pyplot as plt\n",
    "from classy import Class\n",
    "\n"
   ]
  },
  {
   "cell_type": "code",
   "execution_count": 23,
   "metadata": {},
   "outputs": [],
   "source": [
    "cosmo_lcdm= Class()\n",
    "params_lcdm={'h':'0.6774',\n",
    "        'T_cmb':'2.7255', \n",
    "        'omega_b':'0.0223',\n",
    "        'N_ur':'3.046',\n",
    "        'P_k_max_h/Mpc':'50.','output':'mPk','k_pivot':'0.05',\n",
    "        'z_reio':'11.357',\n",
    "        'gauge':'synchronous',\n",
    "        'A_s': '2.215e-9',\n",
    "        'n_s':'0.9619',\n",
    "        'alpha_s':'0.',\n",
    "        'z_pk':'0.',\n",
    "        'P_k_ini type': 'analytic_Pk'\n",
    "        }\n",
    "cosmo_lcdm.set(params_lcdm)\n",
    "cosmo_lcdm.compute()"
   ]
  },
  {
   "cell_type": "code",
   "execution_count": 46,
   "metadata": {},
   "outputs": [
    {
     "data": {
      "text/plain": [
       "0.31236822088713284"
      ]
     },
     "execution_count": 46,
     "metadata": {},
     "output_type": "execute_result"
    }
   ],
   "source": [
    "cosmo_lcdm.Omega_m()"
   ]
  },
  {
   "cell_type": "code",
   "execution_count": 24,
   "metadata": {},
   "outputs": [
    {
     "data": {
      "text/plain": [
       "['Hubble',\n",
       " 'Neff',\n",
       " 'Omega0_m',\n",
       " 'Omega_b',\n",
       " 'Omega_m',\n",
       " 'Omega_nu',\n",
       " 'T_cmb',\n",
       " '__call__',\n",
       " '__class__',\n",
       " '__delattr__',\n",
       " '__doc__',\n",
       " '__format__',\n",
       " '__getattribute__',\n",
       " '__hash__',\n",
       " '__init__',\n",
       " '__new__',\n",
       " '__reduce__',\n",
       " '__reduce_ex__',\n",
       " '__repr__',\n",
       " '__setattr__',\n",
       " '__setstate__',\n",
       " '__sizeof__',\n",
       " '__str__',\n",
       " '__subclasshook__',\n",
       " '_check_task_dependency',\n",
       " '_fillparfile',\n",
       " '_pars_check',\n",
       " 'age',\n",
       " 'angular_distance',\n",
       " 'baryon_temperature',\n",
       " 'compute',\n",
       " 'density_cl',\n",
       " 'empty',\n",
       " 'get_background',\n",
       " 'get_current_derived_parameters',\n",
       " 'get_perturbations',\n",
       " 'get_pk',\n",
       " 'get_primordial',\n",
       " 'get_thermodynamics',\n",
       " 'get_transfer',\n",
       " 'h',\n",
       " 'ionization_fraction',\n",
       " 'lensed_cl',\n",
       " 'luminosity_distance',\n",
       " 'n_s',\n",
       " 'nonlinear_method',\n",
       " 'nonlinear_scale',\n",
       " 'omega_b',\n",
       " 'pars',\n",
       " 'pk',\n",
       " 'raw_cl',\n",
       " 'rs_drag',\n",
       " 'set',\n",
       " 'set_default',\n",
       " 'sigma8',\n",
       " 'state',\n",
       " 'struct_cleanup',\n",
       " 'z_of_r']"
      ]
     },
     "execution_count": 24,
     "metadata": {},
     "output_type": "execute_result"
    }
   ],
   "source": [
    "dir(cosmo_lcdm)"
   ]
  },
  {
   "cell_type": "code",
   "execution_count": 34,
   "metadata": {},
   "outputs": [
    {
     "data": {
      "text/plain": [
       "[<matplotlib.lines.Line2D at 0x11661f4d0>]"
      ]
     },
     "execution_count": 34,
     "metadata": {},
     "output_type": "execute_result"
    },
    {
     "data": {
      "image/png": "[encoded data removed]",
      "text/plain": [
       "<Figure size 432x288 with 1 Axes>"
      ]
     },
     "metadata": {},
     "output_type": "display_data"
    }
   ],
   "source": [
    "z=np.arange(0,50,0.1)\n",
    "Hubble_z=np.vectorize(cosmo_lcdm.Hubble)\n",
    "Hubble_z(z)\n",
    "plt.plot(z,Hubble_z(z))"
   ]
  },
  {
   "cell_type": "code",
   "execution_count": 36,
   "metadata": {},
   "outputs": [],
   "source": [
    "cosmo1=Class()\n",
    "\n",
    "\n",
    "params_1={'h':'0.6774',\n",
    "        'T_cmb':'2.7255', \n",
    "        'omega_b':'0.0223',\n",
    "        'omega_cdm':'0.21',\n",
    "        'N_ur':'3.046',\n",
    "        'P_k_max_h/Mpc':'50.','output':'mPk','k_pivot':'0.05',\n",
    "        'z_reio':'11.357',\n",
    "        'gauge':'synchronous',\n",
    "        'A_s': '2.215e-9',\n",
    "        'n_s':'0.9619',\n",
    "        'alpha_s':'0.',\n",
    "        'z_pk':'0.',\n",
    "        'P_k_ini type': 'analytic_Pk'\n",
    "        }\n",
    "cosmo1.set(params_1)\n",
    "cosmo1.compute()"
   ]
  },
  {
   "cell_type": "code",
   "execution_count": 38,
   "metadata": {},
   "outputs": [
    {
     "data": {
      "text/plain": [
       "[<matplotlib.lines.Line2D at 0x116657550>]"
      ]
     },
     "execution_count": 38,
     "metadata": {},
     "output_type": "execute_result"
    },
    {
     "data": {
      "image/png": "[encoded data removed]",
      "text/plain": [
       "<Figure size 432x288 with 1 Axes>"
      ]
     },
     "metadata": {},
     "output_type": "display_data"
    }
   ],
   "source": [
    "z=np.arange(0,50,0.1)\n",
    "Hubble1_z=np.vectorize(cosmo1.Hubble)\n",
    "Hubble1_z(z)\n",
    "plt.plot(z,Hubble1_z(z))\n",
    "plt.plot(z,Hubble_z(z))"
   ]
  },
  {
   "cell_type": "code",
   "execution_count": 18,
   "metadata": {},
   "outputs": [
    {
     "data": {
      "text/plain": [
       "18984.58015323045"
      ]
     },
     "execution_count": 18,
     "metadata": {},
     "output_type": "execute_result"
    }
   ],
   "source": [
    "k=10**np.linspace(-3,1,100)\n",
    "cosmo_lcdm.pk(0.001,0)"
   ]
  },
  {
   "cell_type": "code",
   "execution_count": 47,
   "metadata": {},
   "outputs": [
    {
     "data": {
      "text/plain": [
       "Text(0.5,0,'k [h/Mpc]')"
      ]
     },
     "execution_count": 47,
     "metadata": {},
     "output_type": "execute_result"
    },
    {
     "data": {
      "image/png": "[encoded data removed]",
      "text/plain": [
       "<Figure size 432x288 with 1 Axes>"
      ]
     },
     "metadata": {},
     "output_type": "display_data"
    }
   ],
   "source": [
    "#cosmo.pk needs to be vectorized so it can be used with arrays. \n",
    "Pk_lcdm=np.vectorize(cosmo_lcdm.pk)\n",
    "Pk_1=np.vectorize(cosmo1.pk)\n",
    "plt.loglog(k,Pk_lcdm(k,0),'k')\n",
    "plt.loglog(k,Pk_1(k,0),'r')\n",
    "plt.xlabel('k [h/Mpc]')\n"
   ]
  },
  {
   "cell_type": "code",
   "execution_count": null,
   "metadata": {},
   "outputs": [],
   "source": []
  },
  {
   "cell_type": "code",
   "execution_count": null,
   "metadata": {},
   "outputs": [],
   "source": []
  },
  {
   "cell_type": "code",
   "execution_count": null,
   "metadata": {},
   "outputs": [],
   "source": []
  },
  {
   "cell_type": "code",
   "execution_count": null,
   "metadata": {},
   "outputs": [],
   "source": []
  },
  {
   "cell_type": "code",
   "execution_count": 39,
   "metadata": {},
   "outputs": [
    {
     "data": {
      "text/plain": [
       "{'(.)rho_b': array([2.48120962e+33, 2.42982528e+33, 2.37950507e+33, ...,\n",
       "        2.58493387e-09, 2.53117385e-09, 2.48120962e-09]),\n",
       " '(.)rho_cdm': array([2.33656512e+34, 2.28817627e+34, 2.24078952e+34, ...,\n",
       "        2.43424265e-08, 2.38361663e-08, 2.33656512e-08]),\n",
       " '(.)rho_crit': array([4.65500451e+44, 4.52691379e+44, 4.40234771e+44, ...,\n",
       "        5.21370186e-08, 5.15768625e-08, 5.10562577e-08]),\n",
       " '(.)rho_g': array([2.75156054e+44, 2.67584646e+44, 2.60221579e+44, ...,\n",
       "        2.90598729e-12, 2.82568511e-12, 2.75156054e-12]),\n",
       " '(.)rho_lambda': array([2.52047419e-08, 2.52047419e-08, 2.52047419e-08, ...,\n",
       "        2.52047419e-08, 2.52047419e-08, 2.52047419e-08]),\n",
       " '(.)rho_ur': array([1.90344398e+44, 1.85106733e+44, 1.80013193e+44, ...,\n",
       "        2.01027160e-12, 1.95472105e-12, 1.90344398e-12]),\n",
       " 'H [1/Mpc]': array([2.15754595e+22, 2.12765453e+22, 2.09817724e+22, ...,\n",
       "        2.28335320e-04, 2.27105399e-04, 2.25956318e-04]),\n",
       " 'ang.diam.dist.': array([1.16323970e-10, 1.17138238e-10, 1.17958206e-10, ...,\n",
       "        5.96916083e+01, 2.92390617e+01, 0.00000000e+00]),\n",
       " 'comov. dist.': array([11632.39703076, 11632.39703076, 11632.39703076, ...,\n",
       "           60.51206032,    29.43402159,     0.        ]),\n",
       " 'comov.snd.hrz.': array([2.67595816e-09, 2.69468987e-09, 2.71355270e-09, ...,\n",
       "        9.90442110e+02, 9.91135057e+02, 9.91789111e+02]),\n",
       " 'conf. time [Mpc]': array([4.63478500e-09, 4.66752681e-09, 4.70026862e-09, ...,\n",
       "        1.15718850e+04, 1.16029630e+04, 1.16323970e+04]),\n",
       " 'gr.fac. D': array([5.37056407e-18, 5.44601513e-18, 5.52252620e-18, ...,\n",
       "        1.34056464e+07, 1.34709340e+07, 1.35328138e+07]),\n",
       " 'gr.fac. f': array([2.        , 2.        , 2.        , ..., 0.6954609 , 0.69152295,\n",
       "        0.68776802]),\n",
       " 'lum. dist.': array([1.16323970e+18, 1.15515363e+18, 1.14712376e+18, ...,\n",
       "        6.13437893e+01, 2.96302815e+01, 0.00000000e+00]),\n",
       " 'proper time [Gyr]': array([7.55850363e-26, 7.66469305e-26, 7.77237432e-26, ...,\n",
       "        1.17507167e+01, 1.18510563e+01, 1.19467402e+01]),\n",
       " 'z': array([1.00000000e+14, 9.93048659e+13, 9.86145640e+13, ...,\n",
       "        1.37448473e-02, 6.66778979e-03, 0.00000000e+00])}"
      ]
     },
     "execution_count": 39,
     "metadata": {},
     "output_type": "execute_result"
    }
   ],
   "source": [
    "cosmo1.get_background()"
   ]
  },
  {
   "cell_type": "code",
   "execution_count": 40,
   "metadata": {},
   "outputs": [],
   "source": [
    "background1=cosmo1.get_background()"
   ]
  },
  {
   "cell_type": "code",
   "execution_count": 41,
   "metadata": {},
   "outputs": [
    {
     "data": {
      "text/plain": [
       "[<matplotlib.lines.Line2D at 0x115e33dd0>]"
      ]
     },
     "execution_count": 41,
     "metadata": {},
     "output_type": "execute_result"
    },
    {
     "data": {
      "image/png": "[encoded data removed]",
      "text/plain": [
       "<Figure size 432x288 with 1 Axes>"
      ]
     },
     "metadata": {},
     "output_type": "display_data"
    }
   ],
   "source": [
    "plt.loglog(background1['z'],background1['H [1/Mpc]'])\n"
   ]
  },
  {
   "cell_type": "code",
   "execution_count": 9,
   "metadata": {},
   "outputs": [
    {
     "data": {
      "text/plain": [
       "{'Tb [K]': array([3.77595767e-01, 3.77783249e-01, 3.88646414e-01, ...,\n",
       "        2.72536372e+04, 2.72550000e+04, 2.72563627e+04]),\n",
       " 'c_b^2': array([9.69558021e-14, 9.80624141e-14, 1.00861476e-13, ...,\n",
       "        5.64223109e-09, 5.64251322e-09, 5.64279534e-09]),\n",
       " 'conf. time [Mpc]': array([11632.39703077, 11631.27641696, 11567.56302132, ...,\n",
       "           41.25416911,    41.25231075,    41.25045256]),\n",
       " 'exp(-kappa)': array([1.        , 0.99999949, 0.99997035, ..., 0.        , 0.        ,\n",
       "        0.        ]),\n",
       " 'g [Mpc^-1]': array([4.50567912e-07, 4.50795918e-07, 4.63927543e-07, ...,\n",
       "        0.00000000e+00, 0.00000000e+00, 0.00000000e+00]),\n",
       " \"kappa' [Mpc^-1]\": array([4.50567912e-07, 4.50796146e-07, 4.63941297e-07, ...,\n",
       "        4.50522883e+01, 4.50567939e+01, 4.50612997e+01]),\n",
       " 'tau_d': array([0.00000000e+00, 7.46853729e-10, 4.41679294e-08, ...,\n",
       "        1.07583609e+04, 1.07595989e+04, 1.07608369e+04]),\n",
       " 'x_e': array([1.16590751, 1.16590751, 1.16590751, ..., 1.16590758, 1.16590758,\n",
       "        1.16590758]),\n",
       " 'z': array([0.00000000e+00, 2.53241228e-04, 1.47320721e-02, ...,\n",
       "        9.99850000e+03, 9.99900000e+03, 9.99950000e+03])}"
      ]
     },
     "execution_count": 9,
     "metadata": {},
     "output_type": "execute_result"
    }
   ],
   "source": [
    "termo=cosmo1.get_thermodynamics()\n",
    "cosmo1.get_thermodynamics()"
   ]
  },
  {
   "cell_type": "code",
   "execution_count": 42,
   "metadata": {},
   "outputs": [
    {
     "data": {
      "text/plain": [
       "[<matplotlib.lines.Line2D at 0x117520f50>]"
      ]
     },
     "execution_count": 42,
     "metadata": {},
     "output_type": "execute_result"
    },
    {
     "data": {
      "image/png": "[encoded data removed]",
      "text/plain": [
       "<Figure size 432x288 with 1 Axes>"
      ]
     },
     "metadata": {},
     "output_type": "display_data"
    }
   ],
   "source": [
    "plt.plot(termo['z'],termo['x_e'])"
   ]
  },
  {
   "cell_type": "code",
   "execution_count": 43,
   "metadata": {},
   "outputs": [
    {
     "data": {
      "text/plain": [
       "[<matplotlib.lines.Line2D at 0x1176b4050>]"
      ]
     },
     "execution_count": 43,
     "metadata": {},
     "output_type": "execute_result"
    },
    {
     "data": {
      "image/png": "[encoded data removed]",
      "text/plain": [
       "<Figure size 432x288 with 1 Axes>"
      ]
     },
     "metadata": {},
     "output_type": "display_data"
    }
   ],
   "source": [
    "z=np.linspace(0,0.8,100)\n",
    "angdist=np.vectorize(cosmo1.angular_distance)\n",
    "plt.plot(z,angdist(z))"
   ]
  },
  {
   "cell_type": "code",
   "execution_count": 64,
   "metadata": {},
   "outputs": [],
   "source": [
    "cosmo_sf = Class()\n",
    "params_sf={'h':'0.6774',\n",
    "        'T_cmb':'2.7255', \n",
    "        'omega_b':'0.0223',\n",
    "        'N_ur':'3.046',\n",
    "        'Omega_cdm':'0.000001',\n",
    "        'Omega_dcdmdr':'0.0',\n",
    "        'Gamma_dcdm':'0.0',\n",
    "        'N_ncdm':'0',\n",
    "        'Omega_k':'0.0',\n",
    "        'Omega_Lambda':'0.6774','Omega_fld':'0.','Omega_scf':'-0.1',\n",
    "        'attractor_ic_scf':'yes',\n",
    "        'scf_parameters':'0,1e-22,1.e-40,1e-2',\n",
    "        'scf_tuning_index':'3',\n",
    "        'P_k_max_h/Mpc':'500.','output':'mPk','k_pivot':'0.05',\n",
    "        'A_s':'2.215e-9',\n",
    "        'n_s':'0.9619',\n",
    "        'nonlinear_verbose':'1',\n",
    "        'lensing_verbose':'1',\n",
    "        'z_reio':'11.357',\n",
    "        'gauge':'synchronous',\n",
    "        'alpha_s':'0.',\n",
    "        'z_pk':'0.',\n",
    "        'P_k_ini type': 'analytic_Pk'\n",
    "        }\n",
    "cosmo_sf.set(params)\n",
    "cosmo_sf.compute()\n",
    "\n"
   ]
  },
  {
   "cell_type": "code",
   "execution_count": 65,
   "metadata": {},
   "outputs": [
    {
     "data": {
      "text/plain": [
       "[<matplotlib.lines.Line2D at 0x11affab10>]"
      ]
     },
     "execution_count": 65,
     "metadata": {},
     "output_type": "execute_result"
    },
    {
     "data": {
      "image/png": "[encoded data removed]",
      "text/plain": [
       "<Figure size 432x288 with 1 Axes>"
      ]
     },
     "metadata": {},
     "output_type": "display_data"
    }
   ],
   "source": [
    "Pk_sf=np.vectorize(cosmo_sf.pk)\n",
    "plt.loglog(k,k**3*Pk_sf(k,0)/(2*np.pi),'r')\n",
    "plt.loglog(k,k**3*Pk_lcdm(k,0)/(2*np.pi),'k')"
   ]
  },
  {
   "cell_type": "markdown",
   "metadata": {},
   "source": [
    "Ejercicio: Calcula la funciçon de correlación $\\chi({r})=\\frac{1}{2 \\pi}\\int{dk k^2 P(k) \\frac{\\sin{k r}}{kr}}$"
   ]
  },
  {
   "cell_type": "code",
   "execution_count": null,
   "metadata": {},
   "outputs": [],
   "source": []
  }
 ],
 "metadata": {
  "kernelspec": {
   "display_name": "Python 2",
   "language": "python",
   "name": "python2"
  },
  "language_info": {
   "codemirror_mode": {
    "name": "ipython",
    "version": 2
   },
   "file_extension": ".py",
   "mimetype": "text/x-python",
   "name": "python",
   "nbconvert_exporter": "python",
   "pygments_lexer": "ipython2",
   "version": "2.7.15"
  }
 },
 "nbformat": 4,
 "nbformat_minor": 2
}
